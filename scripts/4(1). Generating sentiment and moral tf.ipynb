{
 "cells": [
  {
   "cell_type": "code",
   "execution_count": 2,
   "metadata": {},
   "outputs": [],
   "source": [
    "import numpy as np\n",
    "import pandas as pd"
   ]
  },
  {
   "cell_type": "code",
   "execution_count": 3,
   "metadata": {},
   "outputs": [
    {
     "name": "stderr",
     "output_type": "stream",
     "text": [
      "[nltk_data] Downloading package vader_lexicon to\n",
      "[nltk_data]     C:\\Users\\PAHADRIANUS\\AppData\\Roaming\\nltk_data...\n",
      "[nltk_data]   Package vader_lexicon is already up-to-date!\n"
     ]
    }
   ],
   "source": [
    "import nltk\n",
    "nltk.download('vader_lexicon')\n",
    "from nltk.sentiment.vader import SentimentIntensityAnalyzer\n",
    "sentiment = SentimentIntensityAnalyzer()\n",
    "from nltk.tokenize import word_tokenize"
   ]
  },
  {
   "cell_type": "markdown",
   "metadata": {},
   "source": [
    "The word list is from moralfoundations.org at https://moralfoundations.org/wp-content/uploads/files/downloads/moral%20foundations%20dictionary.dic"
   ]
  },
  {
   "cell_type": "code",
   "execution_count": 4,
   "metadata": {},
   "outputs": [],
   "source": [
    "vice = ['harm', 'suffer', 'war', 'war', 'fight', 'violen', 'hurt', 'kill', 'endanger', 'cruel', 'brutal', 'abuse', 'damag', 'ruin', 'ravage', 'detriment', \n",
    "        'crush', 'attack', 'annihilate', 'destroy', 'stomp', 'abandon', 'spurn', 'impair', 'exploit', 'wound', 'unfair', 'unequal', 'bias', 'unjust', 'injust', 'bigot', 'discriminat', \n",
    "        'disproportion', 'inequitable', 'prejud', 'dishonest', 'unscrupulous', 'dissociate', 'preference', 'favoritism',\n",
    "        'segregat', 'exclusion', 'exclud', 'foreign', 'enem', 'betray', 'treason', 'traitor', 'treacher', 'disloyal', \n",
    "        'individual', 'apostasy', 'apostate', 'deserted', 'deserter', 'deserting', 'deceiv', 'jilt', 'imposter', \n",
    "        'miscreant', 'spy', 'sequester', 'renegade', 'terroris', 'immigra', 'defian', 'rebel', 'dissent', 'subver', \n",
    "        'disrespect', 'disobe', 'sediti', 'agitat', 'insubordinat', 'illegal', 'lawless', 'insurgent', 'mutinous', \n",
    "        'defy', 'dissident', 'unfaithful', 'alienate', 'defector', 'heretic', 'nonconformist', 'oppose', 'protest', \n",
    "        'refuse', 'denounce', 'remonstrate', 'riot', 'obstruct', 'disgust', 'deprav', 'disease', 'unclean', 'contagio',\n",
    "        'indecen', 'sin', 'sinned', 'sinning', 'slut', 'whore', 'dirt', 'impiety', 'impious', \n",
    "        'profan', 'gross', 'repuls', 'sick', 'promiscu', 'lewd', 'adulter', 'debauche', 'defile', 'tramp', 'prostitut', \n",
    "        'unchaste', 'intemperate', 'wanton', 'profligate', 'filth', 'trashy', 'obscen', 'lax', 'taint', 'stain', \n",
    "        'tarnish', 'debase', 'desecrat', 'wicked', 'blemish', 'exploitat', 'pervert', 'wretched']"
   ]
  },
  {
   "cell_type": "code",
   "execution_count": 5,
   "metadata": {},
   "outputs": [],
   "source": [
    "def vice_tf(text):\n",
    "    term = 0\n",
    "    total = 0\n",
    "    for i in word_tokenize(text):\n",
    "        total += 1\n",
    "        for j in vice:\n",
    "            if j in i:\n",
    "                term +=1\n",
    "    tf = term / total\n",
    "    return (tf)  "
   ]
  },
  {
   "cell_type": "markdown",
   "metadata": {},
   "source": [
    "# Generating variables for the dataframe"
   ]
  },
  {
   "cell_type": "code",
   "execution_count": 11,
   "metadata": {},
   "outputs": [],
   "source": [
    "def senti_var(df):\n",
    "    sent = []\n",
    "    for i,j in df.iterrows():\n",
    "        value = sentiment.polarity_scores(j['text'])['neg']\n",
    "        sent.append(value)\n",
    "    df['sent'] = sent\n",
    "    return (df)"
   ]
  },
  {
   "cell_type": "code",
   "execution_count": 7,
   "metadata": {},
   "outputs": [],
   "source": [
    "def moral_var(df):\n",
    "    mscore = []\n",
    "    for i,j in df.iterrows():\n",
    "        value = vice_tf(j['text'])\n",
    "        mscore.append(value)\n",
    "    df['mscore'] = mscore\n",
    "    return (df)"
   ]
  },
  {
   "cell_type": "code",
   "execution_count": 8,
   "metadata": {},
   "outputs": [
    {
     "name": "stderr",
     "output_type": "stream",
     "text": [
      "c:\\users\\pahadrianus\\appdata\\local\\programs\\python\\python36\\lib\\site-packages\\IPython\\core\\interactiveshell.py:3051: DtypeWarning: Columns (12) have mixed types.Specify dtype option on import or set low_memory=False.\n",
      "  interactivity=interactivity, compiler=compiler, result=result)\n"
     ]
    }
   ],
   "source": [
    "df = pd.read_csv('all.csv')"
   ]
  },
  {
   "cell_type": "code",
   "execution_count": 12,
   "metadata": {},
   "outputs": [],
   "source": [
    "df = senti_var(df)"
   ]
  },
  {
   "cell_type": "code",
   "execution_count": 14,
   "metadata": {},
   "outputs": [],
   "source": [
    "df2 = moral_var(df)"
   ]
  },
  {
   "cell_type": "code",
   "execution_count": 15,
   "metadata": {},
   "outputs": [
    {
     "data": {
      "text/html": [
       "<div>\n",
       "<style scoped>\n",
       "    .dataframe tbody tr th:only-of-type {\n",
       "        vertical-align: middle;\n",
       "    }\n",
       "\n",
       "    .dataframe tbody tr th {\n",
       "        vertical-align: top;\n",
       "    }\n",
       "\n",
       "    .dataframe thead th {\n",
       "        text-align: right;\n",
       "    }\n",
       "</style>\n",
       "<table border=\"1\" class=\"dataframe\">\n",
       "  <thead>\n",
       "    <tr style=\"text-align: right;\">\n",
       "      <th></th>\n",
       "      <th>Unnamed: 0</th>\n",
       "      <th>Unnamed: 0.1</th>\n",
       "      <th>user_name</th>\n",
       "      <th>user_location</th>\n",
       "      <th>user_description</th>\n",
       "      <th>user_verified</th>\n",
       "      <th>date</th>\n",
       "      <th>text</th>\n",
       "      <th>hashtags</th>\n",
       "      <th>source</th>\n",
       "      <th>likes</th>\n",
       "      <th>retweet</th>\n",
       "      <th>screen_name</th>\n",
       "      <th>id</th>\n",
       "      <th>followers</th>\n",
       "      <th>sent</th>\n",
       "      <th>mscore</th>\n",
       "    </tr>\n",
       "  </thead>\n",
       "  <tbody>\n",
       "    <tr>\n",
       "      <th>0</th>\n",
       "      <td>0</td>\n",
       "      <td>0</td>\n",
       "      <td>Marisol Ochoa</td>\n",
       "      <td>NaN</td>\n",
       "      <td>NaN</td>\n",
       "      <td>False</td>\n",
       "      <td>2022-11-11 06:50:22</td>\n",
       "      <td>\"The US government is spending a huge amount o...</td>\n",
       "      <td>NaN</td>\n",
       "      <td>Twitter Web App</td>\n",
       "      <td>0</td>\n",
       "      <td>0</td>\n",
       "      <td>NaN</td>\n",
       "      <td>NaN</td>\n",
       "      <td>NaN</td>\n",
       "      <td>0.168</td>\n",
       "      <td>0.0</td>\n",
       "    </tr>\n",
       "    <tr>\n",
       "      <th>1</th>\n",
       "      <td>1</td>\n",
       "      <td>1</td>\n",
       "      <td>Gabriel Jorby</td>\n",
       "      <td>Paris  ⁄  Shanghai</td>\n",
       "      <td>User stories and Interaction design in French....</td>\n",
       "      <td>False</td>\n",
       "      <td>2022-11-11 06:50:21</td>\n",
       "      <td>#Covid19 is still a reality in China. But toda...</td>\n",
       "      <td>['Covid19']</td>\n",
       "      <td>Twitter Web App</td>\n",
       "      <td>0</td>\n",
       "      <td>0</td>\n",
       "      <td>NaN</td>\n",
       "      <td>NaN</td>\n",
       "      <td>NaN</td>\n",
       "      <td>0.290</td>\n",
       "      <td>0.0</td>\n",
       "    </tr>\n",
       "    <tr>\n",
       "      <th>2</th>\n",
       "      <td>2</td>\n",
       "      <td>2</td>\n",
       "      <td>Harsh Bakshi</td>\n",
       "      <td>India</td>\n",
       "      <td>Game Developer, Microsoft Student Partner, Lin...</td>\n",
       "      <td>False</td>\n",
       "      <td>2022-11-11 06:50:06</td>\n",
       "      <td>Fight Corona VR https://t.co/nph73vjjIM Availa...</td>\n",
       "      <td>['ue4', 'UnrealEngine', 'indiedev', 'gamer', '...</td>\n",
       "      <td>ScSk</td>\n",
       "      <td>3</td>\n",
       "      <td>4</td>\n",
       "      <td>NaN</td>\n",
       "      <td>NaN</td>\n",
       "      <td>NaN</td>\n",
       "      <td>0.091</td>\n",
       "      <td>0.0</td>\n",
       "    </tr>\n",
       "    <tr>\n",
       "      <th>3</th>\n",
       "      <td>3</td>\n",
       "      <td>3</td>\n",
       "      <td>Joy Adams</td>\n",
       "      <td>NaN</td>\n",
       "      <td>NaN</td>\n",
       "      <td>False</td>\n",
       "      <td>2022-11-11 06:49:17</td>\n",
       "      <td>\"We need an explanation from the United States...</td>\n",
       "      <td>NaN</td>\n",
       "      <td>Twitter Web App</td>\n",
       "      <td>0</td>\n",
       "      <td>0</td>\n",
       "      <td>NaN</td>\n",
       "      <td>NaN</td>\n",
       "      <td>NaN</td>\n",
       "      <td>0.044</td>\n",
       "      <td>0.0</td>\n",
       "    </tr>\n",
       "    <tr>\n",
       "      <th>4</th>\n",
       "      <td>4</td>\n",
       "      <td>4</td>\n",
       "      <td>Jesse Huang</td>\n",
       "      <td>NaN</td>\n",
       "      <td>Oxygen concentrator professional manufacturer ...</td>\n",
       "      <td>False</td>\n",
       "      <td>2022-11-11 06:49:10</td>\n",
       "      <td>Longfian 5LPM Home Oxygen Concentrator 💪\\n\\n#o...</td>\n",
       "      <td>['oxygen', 'oxygenconcentrator', '5Loxygenconc...</td>\n",
       "      <td>Twitter Web App</td>\n",
       "      <td>0</td>\n",
       "      <td>0</td>\n",
       "      <td>NaN</td>\n",
       "      <td>NaN</td>\n",
       "      <td>NaN</td>\n",
       "      <td>0.000</td>\n",
       "      <td>0.0</td>\n",
       "    </tr>\n",
       "  </tbody>\n",
       "</table>\n",
       "</div>"
      ],
      "text/plain": [
       "   Unnamed: 0  Unnamed: 0.1      user_name       user_location  \\\n",
       "0           0             0  Marisol Ochoa                 NaN   \n",
       "1           1             1  Gabriel Jorby  Paris  ⁄  Shanghai   \n",
       "2           2             2   Harsh Bakshi               India   \n",
       "3           3             3      Joy Adams                 NaN   \n",
       "4           4             4    Jesse Huang                 NaN   \n",
       "\n",
       "                                    user_description  user_verified  \\\n",
       "0                                                NaN          False   \n",
       "1  User stories and Interaction design in French....          False   \n",
       "2  Game Developer, Microsoft Student Partner, Lin...          False   \n",
       "3                                                NaN          False   \n",
       "4  Oxygen concentrator professional manufacturer ...          False   \n",
       "\n",
       "                  date                                               text  \\\n",
       "0  2022-11-11 06:50:22  \"The US government is spending a huge amount o...   \n",
       "1  2022-11-11 06:50:21  #Covid19 is still a reality in China. But toda...   \n",
       "2  2022-11-11 06:50:06  Fight Corona VR https://t.co/nph73vjjIM Availa...   \n",
       "3  2022-11-11 06:49:17  \"We need an explanation from the United States...   \n",
       "4  2022-11-11 06:49:10  Longfian 5LPM Home Oxygen Concentrator 💪\\n\\n#o...   \n",
       "\n",
       "                                            hashtags           source  likes  \\\n",
       "0                                                NaN  Twitter Web App      0   \n",
       "1                                        ['Covid19']  Twitter Web App      0   \n",
       "2  ['ue4', 'UnrealEngine', 'indiedev', 'gamer', '...             ScSk      3   \n",
       "3                                                NaN  Twitter Web App      0   \n",
       "4  ['oxygen', 'oxygenconcentrator', '5Loxygenconc...  Twitter Web App      0   \n",
       "\n",
       "   retweet screen_name  id  followers   sent  mscore  \n",
       "0        0         NaN NaN        NaN  0.168     0.0  \n",
       "1        0         NaN NaN        NaN  0.290     0.0  \n",
       "2        4         NaN NaN        NaN  0.091     0.0  \n",
       "3        0         NaN NaN        NaN  0.044     0.0  \n",
       "4        0         NaN NaN        NaN  0.000     0.0  "
      ]
     },
     "execution_count": 15,
     "metadata": {},
     "output_type": "execute_result"
    }
   ],
   "source": [
    "df.head()"
   ]
  },
  {
   "cell_type": "code",
   "execution_count": 16,
   "metadata": {},
   "outputs": [],
   "source": [
    "df.to_csv('all.csv')"
   ]
  }
 ],
 "metadata": {
  "kernelspec": {
   "display_name": "Python 3",
   "language": "python",
   "name": "python3"
  },
  "language_info": {
   "codemirror_mode": {
    "name": "ipython",
    "version": 3
   },
   "file_extension": ".py",
   "mimetype": "text/x-python",
   "name": "python",
   "nbconvert_exporter": "python",
   "pygments_lexer": "ipython3",
   "version": "3.6.8"
  }
 },
 "nbformat": 4,
 "nbformat_minor": 4
}
