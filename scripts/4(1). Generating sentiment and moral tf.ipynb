{
 "cells": [
  {
   "cell_type": "code",
   "execution_count": null,
   "metadata": {},
   "outputs": [],
   "source": [
    "import numpy as np\n",
    "import pandas as pd"
   ]
  },
  {
   "cell_type": "code",
   "execution_count": null,
   "metadata": {},
   "outputs": [],
   "source": [
    "import nltk\n",
    "nltk.download('vader_lexicon')\n",
    "from nltk.sentiment.vader import SentimentIntensityAnalyzer\n",
    "sentiment = SentimentIntensityAnalyzer()\n",
    "from nltk.tokenize import word_tokenize"
   ]
  },
  {
   "cell_type": "markdown",
   "metadata": {},
   "source": [
    "The word list is from moralfoundations.org at https://moralfoundations.org/wp-content/uploads/files/downloads/moral%20foundations%20dictionary.dic"
   ]
  },
  {
   "cell_type": "code",
   "execution_count": null,
   "metadata": {},
   "outputs": [],
   "source": [
    "vice = ['harm', 'suffer', 'war', 'war', 'fight', 'violen', 'hurt', 'kill', 'endanger', 'cruel', 'brutal', 'abuse', 'damag', 'ruin', 'ravage', 'detriment', \n",
    "        'crush', 'attack', 'annihilate', 'destroy', 'stomp', 'abandon', 'spurn', 'impair', 'exploit', 'wound', 'unfair', 'unequal', 'bias', 'unjust', 'injust', 'bigot', 'discriminat', \n",
    "        'disproportion', 'inequitable', 'prejud', 'dishonest', 'unscrupulous', 'dissociate', 'preference', 'favoritism',\n",
    "        'segregat', 'exclusion', 'exclud', 'foreign', 'enem', 'betray', 'treason', 'traitor', 'treacher', 'disloyal', \n",
    "        'individual', 'apostasy', 'apostate', 'deserted', 'deserter', 'deserting', 'deceiv', 'jilt', 'imposter', \n",
    "        'miscreant', 'spy', 'sequester', 'renegade', 'terroris', 'immigra', 'defian', 'rebel', 'dissent', 'subver', \n",
    "        'disrespect', 'disobe', 'sediti', 'agitat', 'insubordinat', 'illegal', 'lawless', 'insurgent', 'mutinous', \n",
    "        'defy', 'dissident', 'unfaithful', 'alienate', 'defector', 'heretic', 'nonconformist', 'oppose', 'protest', \n",
    "        'refuse', 'denounce', 'remonstrate', 'riot', 'obstruct', 'disgust', 'deprav', 'disease', 'unclean', 'contagio',\n",
    "        'indecen', 'sin', 'sinned', 'sinning', 'slut', 'whore', 'dirt', 'impiety', 'impious', \n",
    "        'profan', 'gross', 'repuls', 'sick', 'promiscu', 'lewd', 'adulter', 'debauche', 'defile', 'tramp', 'prostitut', \n",
    "        'unchaste', 'intemperate', 'wanton', 'profligate', 'filth', 'trashy', 'obscen', 'lax', 'taint', 'stain', \n",
    "        'tarnish', 'debase', 'desecrat', 'wicked', 'blemish', 'exploitat', 'pervert', 'wretched']"
   ]
  },
  {
   "cell_type": "code",
   "execution_count": null,
   "metadata": {},
   "outputs": [],
   "source": [
    "def vice_tf(text):\n",
    "    term = 0\n",
    "    total = 0\n",
    "    for i in word_tokenize(text):\n",
    "        total += 1\n",
    "        for j in vice:\n",
    "            if j in i:\n",
    "                term +=1\n",
    "    tf = term / total\n",
    "    return (tf)  "
   ]
  },
  {
   "cell_type": "markdown",
   "metadata": {},
   "source": [
    "# Generating variables for the dataframe"
   ]
  },
  {
   "cell_type": "code",
   "execution_count": null,
   "metadata": {},
   "outputs": [],
   "source": [
    "def senti_var(df):\n",
    "    sent = []\n",
    "    for i,j in df.iterrows():\n",
    "        value = sentiment.polarity_scores(j['text'])['neg']\n",
    "        sent.append(value)\n",
    "    df['nsent'] = nsent\n",
    "    return (df)"
   ]
  },
  {
   "cell_type": "code",
   "execution_count": null,
   "metadata": {},
   "outputs": [],
   "source": [
    "def moral_var(df):\n",
    "    mscore = []\n",
    "    for i,j in df.iterrows():\n",
    "        value = vice_tf(j['text'])\n",
    "        mscore.append(value)\n",
    "    df['mscore'] = mscore\n",
    "    return (df)"
   ]
  }
 ],
 "metadata": {
  "kernelspec": {
   "display_name": "Python 3",
   "language": "python",
   "name": "python3"
  },
  "language_info": {
   "codemirror_mode": {
    "name": "ipython",
    "version": 3
   },
   "file_extension": ".py",
   "mimetype": "text/x-python",
   "name": "python",
   "nbconvert_exporter": "python",
   "pygments_lexer": "ipython3",
   "version": "3.6.8"
  }
 },
 "nbformat": 4,
 "nbformat_minor": 4
}
