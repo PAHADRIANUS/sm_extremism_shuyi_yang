{
 "cells": [
  {
   "cell_type": "code",
   "execution_count": 3,
   "metadata": {
    "hideCode": false,
    "hidePrompt": false
   },
   "outputs": [],
   "source": [
    "import boto3\n",
    "import tweepy as tw\n",
    "import pandas as pd"
   ]
  },
  {
   "cell_type": "markdown",
   "metadata": {
    "hideCode": false,
    "hidePrompt": false
   },
   "source": [
    "# set up api and search info"
   ]
  },
  {
   "cell_type": "code",
   "execution_count": 2,
   "metadata": {
    "hideCode": false,
    "hidePrompt": false
   },
   "outputs": [],
   "source": [
    "my_api_key = \"fill in api key\"\n",
    "my_api_secret = \"fill in api secret\"\n",
    "\n",
    "auth = tw.OAuthHandler(my_api_key, my_api_secret)\n",
    "api = tw.API(auth, wait_on_rate_limit=True)"
   ]
  },
  {
   "cell_type": "code",
   "execution_count": 33,
   "metadata": {
    "hideCode": false,
    "hidePrompt": false
   },
   "outputs": [],
   "source": [
    "search_query = \"#fill in topic keyword#-filter:retweets\"\n",
    "key = \"#topic#\"\n",
    "index = 0\n",
    "n = 100000"
   ]
  },
  {
   "cell_type": "code",
   "execution_count": 4,
   "metadata": {
    "hideCode": false,
    "hidePrompt": false
   },
   "outputs": [],
   "source": [
    "def get_tweets(search_query, n):\n",
    "    i = 1\n",
    "    tweets_df = pd.DataFrame()\n",
    "    tweets = tw.Cursor(api.search,\n",
    "              q=search_query,\n",
    "              lang=\"en\",\n",
    "              since=\"2019-01-01\").items(n)\n",
    "    \n",
    "    for tweet in tweets:\n",
    "        hashtags = []\n",
    "        print(\"#\", i)\n",
    "        try:\n",
    "            for hashtag in tweet.entities[\"hashtags\"]:\n",
    "                hashtags.append(hashtag[\"text\"])\n",
    "            text = api.get_status(id=tweet.id, tweet_mode='extended').full_text\n",
    "        except:\n",
    "            pass\n",
    "        tweets_df = tweets_df.append(pd.DataFrame({'user_name': tweet.user.name, \n",
    "                                                   'screen_name': tweet.user.screen_name,\n",
    "                                                   'id': tweet.user.id_str,\n",
    "                                                   'user_location': tweet.user.location,\\\n",
    "                                                   'user_description': tweet.user.description,\n",
    "                                                   'user_verified': tweet.user.verified,\n",
    "                                                   'followers': tweet.user.followers_count,\n",
    "                                                   'date': tweet.created_at,\n",
    "                                                   'text': text, \n",
    "                                                   'hashtags': [hashtags if hashtags else None],\n",
    "                                                   'source': tweet.source,\n",
    "                                                   'likes': tweet.favorite_count,\n",
    "                                                   'retweet': tweet.retweet_count}))\n",
    "        i += 1\n",
    "    tweets_df = tweets_df.reset_index(drop=True)\n",
    "    \n",
    "    return tweets_df"
   ]
  },
  {
   "cell_type": "markdown",
   "metadata": {},
   "source": [
    "# run individual searches and save to file"
   ]
  },
  {
   "cell_type": "code",
   "execution_count": null,
   "metadata": {
    "hideCode": false,
    "hidePrompt": false,
    "scrolled": true
   },
   "outputs": [],
   "source": [
    "df = get_tweets(search_query, n)"
   ]
  },
  {
   "cell_type": "code",
   "execution_count": 35,
   "metadata": {
    "hideCode": false,
    "hidePrompt": false
   },
   "outputs": [],
   "source": [
    "df.to_csv(f'{key}_{index}.csv', header=True, index=True)"
   ]
  },
  {
   "cell_type": "markdown",
   "metadata": {
    "hideCode": false,
    "hidePrompt": false
   },
   "source": [
    "# check a dafaframe file"
   ]
  },
  {
   "cell_type": "code",
   "execution_count": 6,
   "metadata": {
    "hideCode": false,
    "hidePrompt": false
   },
   "outputs": [],
   "source": [
    "df0 = pd.read_csv(\"tax_0.csv\")"
   ]
  },
  {
   "cell_type": "code",
   "execution_count": 7,
   "metadata": {
    "hideCode": false,
    "hidePrompt": false
   },
   "outputs": [
    {
     "data": {
      "text/html": [
       "<div>\n",
       "<style scoped>\n",
       "    .dataframe tbody tr th:only-of-type {\n",
       "        vertical-align: middle;\n",
       "    }\n",
       "\n",
       "    .dataframe tbody tr th {\n",
       "        vertical-align: top;\n",
       "    }\n",
       "\n",
       "    .dataframe thead th {\n",
       "        text-align: right;\n",
       "    }\n",
       "</style>\n",
       "<table border=\"1\" class=\"dataframe\">\n",
       "  <thead>\n",
       "    <tr style=\"text-align: right;\">\n",
       "      <th></th>\n",
       "      <th>Unnamed: 0</th>\n",
       "      <th>user_name</th>\n",
       "      <th>screen_name</th>\n",
       "      <th>id</th>\n",
       "      <th>user_location</th>\n",
       "      <th>user_description</th>\n",
       "      <th>user_verified</th>\n",
       "      <th>followers</th>\n",
       "      <th>date</th>\n",
       "      <th>text</th>\n",
       "      <th>hashtags</th>\n",
       "      <th>source</th>\n",
       "      <th>likes</th>\n",
       "      <th>retweet</th>\n",
       "    </tr>\n",
       "  </thead>\n",
       "  <tbody>\n",
       "    <tr>\n",
       "      <th>0</th>\n",
       "      <td>0</td>\n",
       "      <td>James Buss</td>\n",
       "      <td>James_Buss</td>\n",
       "      <td>949751696</td>\n",
       "      <td>NaN</td>\n",
       "      <td>The number of followers and a profile picture ...</td>\n",
       "      <td>False</td>\n",
       "      <td>19</td>\n",
       "      <td>2023-04-23 19:59:27</td>\n",
       "      <td>@LizGrac54485089 @Right_On_tario @liberal_part...</td>\n",
       "      <td>NaN</td>\n",
       "      <td>Twitter Web App</td>\n",
       "      <td>0</td>\n",
       "      <td>0</td>\n",
       "    </tr>\n",
       "    <tr>\n",
       "      <th>1</th>\n",
       "      <td>1</td>\n",
       "      <td>Sean</td>\n",
       "      <td>Sean00990</td>\n",
       "      <td>2940169393</td>\n",
       "      <td>NaN</td>\n",
       "      <td>Some sort of shape.</td>\n",
       "      <td>False</td>\n",
       "      <td>277</td>\n",
       "      <td>2023-04-23 19:59:23</td>\n",
       "      <td>@markdfabela The city - using tax dollars from...</td>\n",
       "      <td>NaN</td>\n",
       "      <td>Twitter for Android</td>\n",
       "      <td>0</td>\n",
       "      <td>0</td>\n",
       "    </tr>\n",
       "    <tr>\n",
       "      <th>2</th>\n",
       "      <td>2</td>\n",
       "      <td>chris jones</td>\n",
       "      <td>chrisjo07354740</td>\n",
       "      <td>1467863867179118596</td>\n",
       "      <td>NaN</td>\n",
       "      <td>Married , Dad of 2 , just like to get on with ...</td>\n",
       "      <td>False</td>\n",
       "      <td>133</td>\n",
       "      <td>2023-04-23 19:59:22</td>\n",
       "      <td>@lady8642 That wasn't paid by Tax payers money...</td>\n",
       "      <td>NaN</td>\n",
       "      <td>Twitter for Android</td>\n",
       "      <td>0</td>\n",
       "      <td>0</td>\n",
       "    </tr>\n",
       "    <tr>\n",
       "      <th>3</th>\n",
       "      <td>3</td>\n",
       "      <td>Joe Grondona</td>\n",
       "      <td>JoeGrondona</td>\n",
       "      <td>776114183582527492</td>\n",
       "      <td>NaN</td>\n",
       "      <td>NaN</td>\n",
       "      <td>False</td>\n",
       "      <td>1</td>\n",
       "      <td>2023-04-23 19:59:22</td>\n",
       "      <td>@EvanBjornson @evasavagiou @elonmusk How much ...</td>\n",
       "      <td>NaN</td>\n",
       "      <td>Twitter for Android</td>\n",
       "      <td>0</td>\n",
       "      <td>0</td>\n",
       "    </tr>\n",
       "    <tr>\n",
       "      <th>4</th>\n",
       "      <td>4</td>\n",
       "      <td>Dzana &amp; Manfred Gellert</td>\n",
       "      <td>GellertManfred</td>\n",
       "      <td>717010607480901632</td>\n",
       "      <td>NaN</td>\n",
       "      <td>NaN</td>\n",
       "      <td>False</td>\n",
       "      <td>245</td>\n",
       "      <td>2023-04-23 19:59:18</td>\n",
       "      <td>@kylenabecker Not fighting wars means not bein...</td>\n",
       "      <td>NaN</td>\n",
       "      <td>Twitter Web App</td>\n",
       "      <td>0</td>\n",
       "      <td>0</td>\n",
       "    </tr>\n",
       "  </tbody>\n",
       "</table>\n",
       "</div>"
      ],
      "text/plain": [
       "   Unnamed: 0                user_name      screen_name                   id  \\\n",
       "0           0               James Buss       James_Buss            949751696   \n",
       "1           1                     Sean        Sean00990           2940169393   \n",
       "2           2              chris jones  chrisjo07354740  1467863867179118596   \n",
       "3           3             Joe Grondona      JoeGrondona   776114183582527492   \n",
       "4           4  Dzana & Manfred Gellert   GellertManfred   717010607480901632   \n",
       "\n",
       "  user_location                                   user_description  \\\n",
       "0           NaN  The number of followers and a profile picture ...   \n",
       "1           NaN                                Some sort of shape.   \n",
       "2           NaN  Married , Dad of 2 , just like to get on with ...   \n",
       "3           NaN                                                NaN   \n",
       "4           NaN                                                NaN   \n",
       "\n",
       "   user_verified  followers                 date  \\\n",
       "0          False         19  2023-04-23 19:59:27   \n",
       "1          False        277  2023-04-23 19:59:23   \n",
       "2          False        133  2023-04-23 19:59:22   \n",
       "3          False          1  2023-04-23 19:59:22   \n",
       "4          False        245  2023-04-23 19:59:18   \n",
       "\n",
       "                                                text hashtags  \\\n",
       "0  @LizGrac54485089 @Right_On_tario @liberal_part...      NaN   \n",
       "1  @markdfabela The city - using tax dollars from...      NaN   \n",
       "2  @lady8642 That wasn't paid by Tax payers money...      NaN   \n",
       "3  @EvanBjornson @evasavagiou @elonmusk How much ...      NaN   \n",
       "4  @kylenabecker Not fighting wars means not bein...      NaN   \n",
       "\n",
       "                source  likes  retweet  \n",
       "0      Twitter Web App      0        0  \n",
       "1  Twitter for Android      0        0  \n",
       "2  Twitter for Android      0        0  \n",
       "3  Twitter for Android      0        0  \n",
       "4      Twitter Web App      0        0  "
      ]
     },
     "execution_count": 7,
     "metadata": {},
     "output_type": "execute_result"
    }
   ],
   "source": [
    "df0.head()"
   ]
  }
 ],
 "metadata": {
  "hide_code_all_hidden": false,
  "kernelspec": {
   "display_name": "Python 3",
   "language": "python",
   "name": "python3"
  },
  "language_info": {
   "codemirror_mode": {
    "name": "ipython",
    "version": 3
   },
   "file_extension": ".py",
   "mimetype": "text/x-python",
   "name": "python",
   "nbconvert_exporter": "python",
   "pygments_lexer": "ipython3",
   "version": "3.6.8"
  }
 },
 "nbformat": 4,
 "nbformat_minor": 4
}
