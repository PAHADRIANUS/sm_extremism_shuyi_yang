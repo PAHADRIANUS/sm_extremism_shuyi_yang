{
 "cells": [
  {
   "cell_type": "code",
   "execution_count": 1,
   "metadata": {},
   "outputs": [],
   "source": [
    "import pandas as pd"
   ]
  },
  {
   "cell_type": "code",
   "execution_count": 2,
   "metadata": {},
   "outputs": [],
   "source": [
    "df = pd.read_csv('Batch_results.csv')"
   ]
  },
  {
   "cell_type": "code",
   "execution_count": 3,
   "metadata": {},
   "outputs": [],
   "source": [
    "df1 = df[['Input.text', 'Answer.extremism level.label']]"
   ]
  },
  {
   "cell_type": "markdown",
   "metadata": {},
   "source": [
    "# Assign values to crowd-sourced label"
   ]
  },
  {
   "cell_type": "code",
   "execution_count": null,
   "metadata": {},
   "outputs": [],
   "source": [
    "df1['score']=\"\"\n",
    "for i, j in df1.iterrows():\n",
    "    if j['Answer.extremism level.label'] == 'Far-left':\n",
    "        j['score'] = 1\n",
    "    elif j['Answer.extremism level.label'] == 'Near-left':\n",
    "        j['score'] = 0.5\n",
    "    elif j['Answer.extremism level.label'] == 'Neutral':\n",
    "        j['score'] = 0\n",
    "    elif j['Answer.extremism level.label'] == 'Near-right':\n",
    "        j['score'] = 0.5\n",
    "    elif j['Answer.extremism level.label'] == 'Far-right':\n",
    "        j['score'] = 1\n",
    "    elif j['Answer.extremism level.label'] == 'Unidentifiable extreme':\n",
    "        j['score'] = 1\n",
    "        \n",
    "df0 = df1[['Input.text', 'score']]\n",
    "df0['score'] = pd.to_numeric(df0['score'])"
   ]
  },
  {
   "cell_type": "code",
   "execution_count": 5,
   "metadata": {},
   "outputs": [],
   "source": [
    "data = (df0[['Input.text', 'score']]\n",
    "       .groupby(['Input.text'], as_index=False).mean())\n",
    "odf = data.rename(columns={'Input.text':'text', 'score': 'tscore'})"
   ]
  },
  {
   "cell_type": "code",
   "execution_count": 6,
   "metadata": {},
   "outputs": [],
   "source": [
    "ndf = pd.read_csv('mturk.csv')\n",
    "vdf = pd.merge(ndf, odf, on='text',  how='left')"
   ]
  },
  {
   "cell_type": "code",
   "execution_count": 8,
   "metadata": {},
   "outputs": [],
   "source": [
    "vdf = vdf[vdf['tscore'].notna()]"
   ]
  },
  {
   "cell_type": "code",
   "execution_count": 14,
   "metadata": {},
   "outputs": [],
   "source": [
    "cdf = vdf[['text', 'likes', 'retweet', 'tscore']]"
   ]
  },
  {
   "cell_type": "code",
   "execution_count": 15,
   "metadata": {},
   "outputs": [
    {
     "data": {
      "text/html": [
       "<div>\n",
       "<style scoped>\n",
       "    .dataframe tbody tr th:only-of-type {\n",
       "        vertical-align: middle;\n",
       "    }\n",
       "\n",
       "    .dataframe tbody tr th {\n",
       "        vertical-align: top;\n",
       "    }\n",
       "\n",
       "    .dataframe thead th {\n",
       "        text-align: right;\n",
       "    }\n",
       "</style>\n",
       "<table border=\"1\" class=\"dataframe\">\n",
       "  <thead>\n",
       "    <tr style=\"text-align: right;\">\n",
       "      <th></th>\n",
       "      <th>text</th>\n",
       "      <th>likes</th>\n",
       "      <th>retweet</th>\n",
       "      <th>tscore</th>\n",
       "    </tr>\n",
       "  </thead>\n",
       "  <tbody>\n",
       "    <tr>\n",
       "      <th>0</th>\n",
       "      <td>\"The US government is spending a huge amount o...</td>\n",
       "      <td>0</td>\n",
       "      <td>0</td>\n",
       "      <td>0.10</td>\n",
       "    </tr>\n",
       "    <tr>\n",
       "      <th>1</th>\n",
       "      <td>#Covid19 is still a reality in China. But toda...</td>\n",
       "      <td>0</td>\n",
       "      <td>0</td>\n",
       "      <td>0.90</td>\n",
       "    </tr>\n",
       "    <tr>\n",
       "      <th>2</th>\n",
       "      <td>Fight Corona VR https://t.co/nph73vjjIM Availa...</td>\n",
       "      <td>3</td>\n",
       "      <td>4</td>\n",
       "      <td>0.25</td>\n",
       "    </tr>\n",
       "    <tr>\n",
       "      <th>3</th>\n",
       "      <td>\"We need an explanation from the United States...</td>\n",
       "      <td>0</td>\n",
       "      <td>0</td>\n",
       "      <td>0.20</td>\n",
       "    </tr>\n",
       "    <tr>\n",
       "      <th>4</th>\n",
       "      <td>Longfian 5LPM Home Oxygen Concentrator \\n\\n#ox...</td>\n",
       "      <td>0</td>\n",
       "      <td>0</td>\n",
       "      <td>0.50</td>\n",
       "    </tr>\n",
       "  </tbody>\n",
       "</table>\n",
       "</div>"
      ],
      "text/plain": [
       "                                                text  likes  retweet  tscore\n",
       "0  \"The US government is spending a huge amount o...      0        0    0.10\n",
       "1  #Covid19 is still a reality in China. But toda...      0        0    0.90\n",
       "2  Fight Corona VR https://t.co/nph73vjjIM Availa...      3        4    0.25\n",
       "3  \"We need an explanation from the United States...      0        0    0.20\n",
       "4  Longfian 5LPM Home Oxygen Concentrator \\n\\n#ox...      0        0    0.50"
      ]
     },
     "execution_count": 15,
     "metadata": {},
     "output_type": "execute_result"
    }
   ],
   "source": [
    "cdf.head()"
   ]
  }
 ],
 "metadata": {
  "kernelspec": {
   "display_name": "Python 3",
   "language": "python",
   "name": "python3"
  },
  "language_info": {
   "codemirror_mode": {
    "name": "ipython",
    "version": 3
   },
   "file_extension": ".py",
   "mimetype": "text/x-python",
   "name": "python",
   "nbconvert_exporter": "python",
   "pygments_lexer": "ipython3",
   "version": "3.6.8"
  }
 },
 "nbformat": 4,
 "nbformat_minor": 4
}
